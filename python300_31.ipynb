{
  "nbformat": 4,
  "nbformat_minor": 0,
  "metadata": {
    "colab": {
      "name": "python300-31.ipynb",
      "version": "0.3.2",
      "provenance": [],
      "include_colab_link": true
    },
    "kernelspec": {
      "name": "python3",
      "display_name": "Python 3"
    }
  },
  "cells": [
    {
      "cell_type": "markdown",
      "metadata": {
        "id": "view-in-github",
        "colab_type": "text"
      },
      "source": [
        "<a href=\"https://colab.research.google.com/github/4070E019/python-practice/blob/master/python300_31.ipynb\" target=\"_parent\"><img src=\"https://colab.research.google.com/assets/colab-badge.svg\" alt=\"Open In Colab\"/></a>"
      ]
    },
    {
      "metadata": {
        "id": "zZ7vuCw1imWC",
        "colab_type": "code",
        "colab": {
          "base_uri": "https://localhost:8080/",
          "height": 69
        },
        "outputId": "0dbbbf68-7857-4b57-89a2-451512ce5c2e"
      },
      "cell_type": "code",
      "source": [
        "##我的python練習(ch4 4-10)\n",
        "\n",
        "import random\n",
        "\n",
        "# Generate a lottery\n",
        "lottery = random.randint(0, 99)\n",
        "\n",
        "# Prompt the user to enter a guess\n",
        "guess = eval(input(\"Enter your lottery pick (two digits): \"))\n",
        "\n",
        "# Get digits from lottery\n",
        "lotteryDigit1 = lottery // 10\n",
        "lotteryDigit2 = lottery % 10\n",
        "\n",
        "# Get digits from guess\n",
        "guessDigit1 = guess // 10\n",
        "guessDigit2 = guess % 10\n",
        "\n",
        "print(\"The lottery number is\", lottery)\n",
        "\n",
        "# Check the guess\n",
        "if guess == lottery:\n",
        "    print(\"Exact match: you win $10,000\")\n",
        "elif (guessDigit2 == lotteryDigit1 and \\\n",
        "  guessDigit1 == lotteryDigit2):\n",
        "    print(\"Match all digits: you win $3,000\")\n",
        "elif (guessDigit1 == lotteryDigit1 \n",
        "        or guessDigit1 == lotteryDigit2 \n",
        "        or guessDigit2 == lotteryDigit1 \n",
        "        or guessDigit2 == lotteryDigit2):\n",
        "    print(\"Match one digit: you win $1,000\")\n",
        "else:\n",
        "    print(\"Sorry, no match\")\n"
      ],
      "execution_count": 1,
      "outputs": [
        {
          "output_type": "stream",
          "text": [
            "Enter your lottery pick (two digits): 45\n",
            "The lottery number is 47\n",
            "Match one digit: you win $1,000\n"
          ],
          "name": "stdout"
        }
      ]
    },
    {
      "metadata": {
        "id": "_YJMPsS_i7Wo",
        "colab_type": "text"
      },
      "cell_type": "markdown",
      "source": [
        "\n",
        "CH4.4-10"
      ]
    }
  ]
}