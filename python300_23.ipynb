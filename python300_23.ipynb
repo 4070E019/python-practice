{
  "nbformat": 4,
  "nbformat_minor": 0,
  "metadata": {
    "colab": {
      "name": "python300-23.ipynb",
      "version": "0.3.2",
      "provenance": [],
      "include_colab_link": true
    },
    "kernelspec": {
      "name": "python3",
      "display_name": "Python 3"
    }
  },
  "cells": [
    {
      "cell_type": "markdown",
      "metadata": {
        "id": "view-in-github",
        "colab_type": "text"
      },
      "source": [
        "<a href=\"https://colab.research.google.com/github/4070E019/python-practice/blob/master/python300_23.ipynb\" target=\"_parent\"><img src=\"https://colab.research.google.com/assets/colab-badge.svg\" alt=\"Open In Colab\"/></a>"
      ]
    },
    {
      "metadata": {
        "id": "udY5owuNF_pc",
        "colab_type": "code",
        "colab": {
          "base_uri": "https://localhost:8080/",
          "height": 51
        },
        "outputId": "5817f534-b933-4854-80e0-6992d4c1f5c0"
      },
      "cell_type": "code",
      "source": [
        "##我的python練習(ch4 4-2)\n",
        "\n",
        "number = eval(input(\"Enter an integer: \"))\n",
        "\n",
        "if number % 5 == 0 :\n",
        "   print(\"HiFive\");\n",
        "\n",
        "if number % 2 == 0 :\n",
        "   print(\"HiEven\");"
      ],
      "execution_count": 5,
      "outputs": [
        {
          "output_type": "stream",
          "text": [
            "Enter an integer: 4\n",
            "HiEven\n"
          ],
          "name": "stdout"
        }
      ]
    },
    {
      "metadata": {
        "id": "Ta8KkrICGdlV",
        "colab_type": "text"
      },
      "cell_type": "markdown",
      "source": [
        "CH4.4-2"
      ]
    }
  ]
}