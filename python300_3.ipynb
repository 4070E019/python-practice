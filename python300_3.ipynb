{
  "nbformat": 4,
  "nbformat_minor": 0,
  "metadata": {
    "colab": {
      "name": "python300-3.ipynb",
      "version": "0.3.2",
      "provenance": [],
      "include_colab_link": true
    },
    "kernelspec": {
      "name": "python2",
      "display_name": "Python 2"
    }
  },
  "cells": [
    {
      "cell_type": "markdown",
      "metadata": {
        "id": "view-in-github",
        "colab_type": "text"
      },
      "source": [
        "<a href=\"https://colab.research.google.com/github/4070E019/python-practice/blob/master/python300_3.ipynb\" target=\"_parent\"><img src=\"https://colab.research.google.com/assets/colab-badge.svg\" alt=\"Open In Colab\"/></a>"
      ]
    },
    {
      "metadata": {
        "id": "xdDVzK8P7MWT",
        "colab_type": "code",
        "colab": {
          "base_uri": "https://localhost:8080/",
          "height": 51
        },
        "outputId": "c49575d9-f89b-4d3f-c650-10bf8a41b150"
      },
      "cell_type": "code",
      "source": [
        "##我的python練習(ch1 1-3)\n",
        "# Compute expression\n",
        "print((10.5 + 2 * 3) / (45 +3.5))\n",
        "print(\"恩師好！我是學生徐江弘\")"
      ],
      "execution_count": 3,
      "outputs": [
        {
          "output_type": "stream",
          "text": [
            "0.340206185567\n",
            "恩師好！我是學生徐江弘\n"
          ],
          "name": "stdout"
        }
      ]
    },
    {
      "metadata": {
        "id": "R_r9zlS77-eH",
        "colab_type": "text"
      },
      "cell_type": "markdown",
      "source": [
        "CH1.1-3"
      ]
    },
    {
      "metadata": {
        "id": "DsqzKOAw7s8o",
        "colab_type": "text"
      },
      "cell_type": "markdown",
      "source": [
        ""
      ]
    }
  ]
}