{
  "nbformat": 4,
  "nbformat_minor": 0,
  "metadata": {
    "colab": {
      "name": "python300-26.ipynb",
      "version": "0.3.2",
      "provenance": [],
      "include_colab_link": true
    },
    "kernelspec": {
      "name": "python3",
      "display_name": "Python 3"
    }
  },
  "cells": [
    {
      "cell_type": "markdown",
      "metadata": {
        "id": "view-in-github",
        "colab_type": "text"
      },
      "source": [
        "<a href=\"https://colab.research.google.com/github/4070E019/python-practice/blob/master/python300_26.ipynb\" target=\"_parent\"><img src=\"https://colab.research.google.com/assets/colab-badge.svg\" alt=\"Open In Colab\"/></a>"
      ]
    },
    {
      "metadata": {
        "id": "gf7kseKYR7FP",
        "colab_type": "code",
        "colab": {
          "base_uri": "https://localhost:8080/",
          "height": 52
        },
        "outputId": "a1f22f1f-696e-4b95-c881-10f704c56426"
      },
      "cell_type": "code",
      "source": [
        "##我的python練習(ch4 4-5)\n",
        "\n",
        "year = eval(input(\"Enter a year: \"))\n",
        "zodiacYear = year % 12 \n",
        "if zodiacYear == 0:\n",
        "    print(\"monkey\")\n",
        "elif zodiacYear == 1:\n",
        "    print(\"rooster\")\n",
        "elif zodiacYear == 2:\n",
        "    print(\"dog\")\n",
        "elif zodiacYear == 3:\n",
        "    print(\"pig\")\n",
        "elif zodiacYear == 4: \n",
        "    print(\"rat\")\n",
        "elif zodiacYear == 5: \n",
        "    print(\"ox\")\n",
        "elif zodiacYear == 6:\n",
        "    print(\"tiger\")\n",
        "elif zodiacYear == 7:\n",
        "    print(\"rabbit\")\n",
        "elif zodiacYear == 8:\n",
        "    print(\"dragon\")\n",
        "elif zodiacYear == 9:\n",
        "    print(\"snake\")\n",
        "elif zodiacYear == 10:\n",
        "    print(\"horse\")\n",
        "else: \n",
        "    print(\"sheep\")\n"
      ],
      "execution_count": 4,
      "outputs": [
        {
          "output_type": "stream",
          "text": [
            "Enter a year: 2000\n",
            "dragon\n"
          ],
          "name": "stdout"
        }
      ]
    },
    {
      "metadata": {
        "id": "TOzc79FiSPZ5",
        "colab_type": "text"
      },
      "cell_type": "markdown",
      "source": [
        "CH4.4-5"
      ]
    }
  ]
}