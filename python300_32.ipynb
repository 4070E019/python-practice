{
  "nbformat": 4,
  "nbformat_minor": 0,
  "metadata": {
    "colab": {
      "name": "python300-32.ipynb",
      "version": "0.3.2",
      "provenance": [],
      "include_colab_link": true
    },
    "kernelspec": {
      "name": "python3",
      "display_name": "Python 3"
    }
  },
  "cells": [
    {
      "cell_type": "markdown",
      "metadata": {
        "id": "view-in-github",
        "colab_type": "text"
      },
      "source": [
        "<a href=\"https://colab.research.google.com/github/4070E019/python-practice/blob/master/python300_32.ipynb\" target=\"_parent\"><img src=\"https://colab.research.google.com/assets/colab-badge.svg\" alt=\"Open In Colab\"/></a>"
      ]
    },
    {
      "metadata": {
        "id": "Fi67OwyuknCh",
        "colab_type": "code",
        "colab": {}
      },
      "cell_type": "code",
      "source": [
        "##我的python練習(ch4 4-11)\n",
        "\n",
        "import turtle\n",
        "\n",
        "x1, y1 = eval(input(\"Enter the center of a circle x, y: \"))\n",
        "radius = eval(input(\"Enter the radius of the circle: \"))\n",
        "x2, y2 = eval(input(\"Enter a point x, y: \"))\n",
        "\n",
        "# Draw the circle\n",
        "turtle.penup() # Pull the pen up\n",
        "turtle.goto(x1, y1 - radius)\n",
        "turtle.pendown() # Pull the pen down\n",
        "turtle.circle(radius)\n",
        "\n",
        "# Draw the point\n",
        "turtle.penup() # Pull the pen up\n",
        "turtle.goto(x2, y2)\n",
        "turtle.pendown() # Pull the pen down\n",
        "turtle.begin_fill() # Begin to fill color in a shape\n",
        "turtle.color(\"red\")\n",
        "turtle.circle(3) \n",
        "turtle.end_fill() # Fill the shape\n",
        "\n",
        "# Display the status\n",
        "turtle.penup() # Pull the pen up\n",
        "turtle.goto(x1 - 70, y1 - radius - 20)\n",
        "turtle.pendown() \n",
        "\n",
        "d = ((x2 - x1) * (x2 - x1) + (y2 - y1) * (y2 - y1)) ** 0.5\n",
        "if d <= radius:\n",
        "    turtle.write(\"The point is inside the circle\") \n",
        "else:\n",
        "    turtle.write(\"The point is outside the circle\") \n",
        "\n",
        "turtle.hideturtle()\n",
        "\n",
        "turtle.done() "
      ],
      "execution_count": 0,
      "outputs": []
    },
    {
      "metadata": {
        "id": "YqEQsiZLk4gt",
        "colab_type": "text"
      },
      "cell_type": "markdown",
      "source": [
        "CH4.4-11"
      ]
    }
  ]
}